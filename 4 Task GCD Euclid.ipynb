{
 "cells": [
  {
   "cell_type": "markdown",
   "id": "f68730e0",
   "metadata": {},
   "source": [
    "# Найдем НОД по алгоритму Евклида\n",
    "Дано два числа, например `a = 54` и `b = 24`.\n",
    "Нужно найти для них НОД с помощью алгоритма Евклида.\n",
    "Для данных чисел НОД будет равен `6`.\n",
    "\n",
    "# Links and materials\n",
    "https://docs.python.org/3/library/math.html#math.gcd  \n",
    "https://younglinux.info/algorithm/euclidean  \n",
    "https://docs.python.org/3/reference/compound_stmts.html#while  \n"
   ]
  },
  {
   "cell_type": "code",
   "execution_count": 1,
   "id": "595592d6",
   "metadata": {},
   "outputs": [],
   "source": [
    "ls = []\n",
    "for i in range(len(sequence)):\n",
    "    for j in range(i+1, len(sequence)):\n",
    "        ls.append([sequence[i], sequence[j]])\n",
    "ls_1 = []\n",
    "for i in ls:\n",
    "    while i[0] != 0 and i[1] != 0:\n",
    "        if i[0] > i[1]:\n",
    "            i[0] = i[0] % i[1]\n",
    "        else:\n",
    "            i[1] = i[1] % i[0]\n",
    "            ls_1.append(i)\n",
    "ls_2 = []\n",
    "for i in ls_1:\n",
    "    for j in i:\n",
    "        ls_2.append(j)\n",
    "\n",
    "new = set(ls_2)\n",
    "if 0 in new:\n",
    "    new.discard(0)\n",
    "print(list(new)[0])\n",
    "\n",
    "Вроде победил, но как будто бы тут другое решение напрашивается, что-то вроде такого, которое закидывало бы список обратно в цикл  for i in ls: и сворачивало бы его до одного числа оно бы и являлось этим НОДом"
   ]
  },
  {
   "cell_type": "markdown",
   "id": "0e8b2aa9",
   "metadata": {},
   "source": [
    "# Усложним задачу\n",
    "Теперь предположим, что у нас на вход дано больше двух чисел.  \n",
    "Например нам даны числа `54`, `24`, `81`, `27`. В таком случае ответ будет равен `3`.  \n",
    "Нужно написать код, который принимает список чисел и в результате выдает НОД всех чисел."
   ]
  },
  {
   "cell_type": "code",
   "execution_count": 1,
   "id": "e596a4cc",
   "metadata": {},
   "outputs": [],
   "source": [
    "numbers = [54, 24, 81, 27]\n",
    "..."
   ]
  },
  {
   "cell_type": "code",
   "execution_count": null,
   "id": "b89a636e",
   "metadata": {},
   "outputs": [],
   "source": []
  }
 ],
 "metadata": {
  "kernelspec": {
   "display_name": "Python 3 (ipykernel)",
   "language": "python",
   "name": "python3"
  },
  "language_info": {
   "codemirror_mode": {
    "name": "ipython",
    "version": 3
   },
   "file_extension": ".py",
   "mimetype": "text/x-python",
   "name": "python",
   "nbconvert_exporter": "python",
   "pygments_lexer": "ipython3",
   "version": "3.9.13"
  }
 },
 "nbformat": 4,
 "nbformat_minor": 5
}
