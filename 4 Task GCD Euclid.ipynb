{
 "cells": [
  {
   "cell_type": "markdown",
   "id": "f68730e0",
   "metadata": {},
   "source": [
    "# Найдем НОД по алгоритму Евклида\n",
    "Дано два числа, например `a = 54` и `b = 24`.\n",
    "Нужно найти для них НОД с помощью алгоритма Евклида.\n",
    "Для данных чисел НОД будет равен `6`.\n",
    "\n",
    "# Links and materials\n",
    "https://docs.python.org/3/library/math.html#math.gcd  \n",
    "https://younglinux.info/algorithm/euclidean  \n",
    "https://docs.python.org/3/reference/compound_stmts.html#while  \n"
   ]
  },
  {
   "cell_type": "code",
   "execution_count": 1,
   "id": "595592d6",
   "metadata": {},
   "outputs": [],
   "source": [
    "# Тут решение\n",
    "..."
   ]
  },
  {
   "cell_type": "markdown",
   "id": "0e8b2aa9",
   "metadata": {},
   "source": [
    "# Усложним задачу\n",
    "Теперь предположим, что у нас на вход дано больше двух чисел.  \n",
    "Например нам даны числа `54`, `24`, `81`, `27`. В таком случае ответ будет равен `3`.  \n",
    "Нужно написать код, который принимает список чисел и в результате выдает НОД всех чисел."
   ]
  },
  {
   "cell_type": "code",
   "execution_count": 1,
   "id": "e596a4cc",
   "metadata": {},
   "outputs": [],
   "source": [
    "numbers = [54, 24, 81, 27]\n",
    "..."
   ]
  },
  {
   "cell_type": "code",
   "execution_count": null,
   "id": "b89a636e",
   "metadata": {},
   "outputs": [],
   "source": []
  }
 ],
 "metadata": {
  "kernelspec": {
   "display_name": "Python 3 (ipykernel)",
   "language": "python",
   "name": "python3"
  },
  "language_info": {
   "codemirror_mode": {
    "name": "ipython",
    "version": 3
   },
   "file_extension": ".py",
   "mimetype": "text/x-python",
   "name": "python",
   "nbconvert_exporter": "python",
   "pygments_lexer": "ipython3",
   "version": "3.9.13"
  }
 },
 "nbformat": 4,
 "nbformat_minor": 5
}
