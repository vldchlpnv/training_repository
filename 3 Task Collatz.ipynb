{
 "cells": [
  {
   "cell_type": "markdown",
   "id": "934983b3",
   "metadata": {},
   "source": [
    "# Гипотеза Коллатца\n",
    "Это одна из нерешенных проблем математики. Решать мы ее конечно не будем)  \n",
    "Попробуем проверить а выполняется ли данная гипотеза.  \n",
    "Гипотеза гласит, что если мы возьмем любое случайное число X и начнем формировать последовательность по правилам:  \n",
    "- Если число четное, то делим его на 2\n",
    "- Если число нечетное, то умножаем его на 3 и прибавляем 1\n",
    "\n",
    "То в итоге рано или поздно получим число 1.\n",
    "\n",
    "Попробуем проверить действительно ли гипотеза работает.\n",
    "В этом задании нужно написать код, который для любого заданного числа вычисляет последовательность Коллатца.\n",
    "Числа последовательности нужно сложить в список и напечатать его.\n",
    "Также нужно напечатать количество шагов за которое последовательность сошлась к 1.\n",
    "\n",
    "# Links and materials\n",
    "https://ru.wikipedia.org/wiki/%D0%93%D0%B8%D0%BF%D0%BE%D1%82%D0%B5%D0%B7%D0%B0_%D0%9A%D0%BE%D0%BB%D0%BB%D0%B0%D1%82%D1%86%D0%B0  \n",
    "https://www.w3schools.com/python/python_while_loops.asp  \n"
   ]
  },
  {
   "cell_type": "code",
   "execution_count": 1,
   "id": "5f29f0d4",
   "metadata": {},
   "outputs": [],
   "source": [
    "def Collatz_sequence(num):\n",
    "    count = 0\n",
    "    ls = []\n",
    "    while num != 1:\n",
    "\n",
    "        if num % 2 == 0:    # проверяем на четность\n",
    "            ls.append(num/2)\n",
    "            count += 1\n",
    "            num = num / 2    # даем переменной новое значение для того что бы произошел выход из цикла по задоному условию\n",
    "\n",
    "        else:\n",
    "            ls.append(num * 3 + 1)\n",
    "            count += 1\n",
    "            num = num * 3 + 1\n",
    "\n",
    "    return ls, count    # может быть можно было просто взть и len(ls) для нахождения количества шагов для создания списка\n",
    "\n",
    "print(Collatz_sequence(10))"
   ]
  }
 ],
 "metadata": {
  "kernelspec": {
   "display_name": "Python 3 (ipykernel)",
   "language": "python",
   "name": "python3"
  },
  "language_info": {
   "codemirror_mode": {
    "name": "ipython",
    "version": 3
   },
   "file_extension": ".py",
   "mimetype": "text/x-python",
   "name": "python",
   "nbconvert_exporter": "python",
   "pygments_lexer": "ipython3",
   "version": "3.9.13"
  }
 },
 "nbformat": 4,
 "nbformat_minor": 5
}
